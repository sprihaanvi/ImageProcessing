{
  "nbformat": 4,
  "nbformat_minor": 0,
  "metadata": {
    "colab": {
      "provenance": [],
      "authorship_tag": "ABX9TyMfAUcBCwZIoe+UqLrH2nXS",
      "include_colab_link": true
    },
    "kernelspec": {
      "name": "python3",
      "display_name": "Python 3"
    },
    "language_info": {
      "name": "python"
    }
  },
  "cells": [
    {
      "cell_type": "markdown",
      "metadata": {
        "id": "view-in-github",
        "colab_type": "text"
      },
      "source": [
        "<a href=\"https://colab.research.google.com/github/sprihaanvi/ImageProcessing/blob/main/Imageprocess.ipynb\" target=\"_parent\"><img src=\"https://colab.research.google.com/assets/colab-badge.svg\" alt=\"Open In Colab\"/></a>"
      ]
    },
    {
      "cell_type": "code",
      "source": [
        "from PIL import Image,ImageFilter\n",
        "\n",
        "img = Image.open('./bg.jpg')\n",
        "print(img.size)\n",
        "print(img.format)\n",
        "print(img.mode)\n"
      ],
      "metadata": {
        "colab": {
          "base_uri": "https://localhost:8080/"
        },
        "id": "HrWLHpAx5Nif",
        "outputId": "233a6528-b579-4a24-83dc-e56f8d686182"
      },
      "execution_count": 8,
      "outputs": [
        {
          "output_type": "stream",
          "name": "stdout",
          "text": [
            "(736, 414)\n",
            "JPEG\n",
            "RGB\n"
          ]
        }
      ]
    },
    {
      "cell_type": "code",
      "source": [
        "filtered_img=img.filter(ImageFilter.BLUR)\n",
        "filtered_img.save(\"blured.png\",'png')\n",
        "filtered_img.show()"
      ],
      "metadata": {
        "id": "8HC1MWbu640X"
      },
      "execution_count": 12,
      "outputs": []
    },
    {
      "cell_type": "code",
      "source": [
        "greyfil=img.convert('L')\n",
        "greyfil.save(\"grey.png\",'png')\n",
        "greyfil.show()"
      ],
      "metadata": {
        "id": "DGHFiHn371qo"
      },
      "execution_count": 11,
      "outputs": []
    },
    {
      "cell_type": "code",
      "source": [
        "rotated=filtered_img.rotate(180)\n",
        "rotated.save(\"rotate.png\",'png')\n"
      ],
      "metadata": {
        "id": "EDmkaG5e8DCL"
      },
      "execution_count": 16,
      "outputs": []
    },
    {
      "cell_type": "code",
      "source": [
        "resized=filtered_img.resize((300,300))\n",
        "resized.save(\"resize.png\",'png')"
      ],
      "metadata": {
        "id": "KJSDj2D58zIo"
      },
      "execution_count": 18,
      "outputs": []
    },
    {
      "cell_type": "code",
      "source": [
        "box=(100,100,400,400)\n",
        "region=filtered_img.crop(box)\n",
        "region.save(\"cropped.png\",'png')\n"
      ],
      "metadata": {
        "id": "0newer-B9Q_y"
      },
      "execution_count": 19,
      "outputs": []
    },
    {
      "cell_type": "code",
      "source": [
        "filtered_img.thumbnail((200,200))\n",
        "filtered_img.save('thumbail.jpg')"
      ],
      "metadata": {
        "id": "6oJTyBQW9zTN"
      },
      "execution_count": 24,
      "outputs": []
    },
    {
      "cell_type": "code",
      "source": [],
      "metadata": {
        "id": "YoWuaTFK-s93"
      },
      "execution_count": null,
      "outputs": []
    }
  ]
}